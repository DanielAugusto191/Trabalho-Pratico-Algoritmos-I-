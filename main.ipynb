{
 "cells": [
  {
   "cell_type": "code",
   "execution_count": null,
   "id": "9662707b",
   "metadata": {},
   "outputs": [],
   "source": [
    "import numpy as np\n",
    "import holoviews as hv\n",
    "hv.extension('bokeh')\n",
    "from functools import reduce"
   ]
  },
  {
   "cell_type": "code",
   "execution_count": null,
   "id": "327cd35c",
   "metadata": {},
   "outputs": [],
   "source": [
    "MIN = -1e-9\n",
    "def counterClockwise(p1, p2, P):\n",
    "    x = (p2[0]-p1[0])*(P[1]-p2[1])\n",
    "    y = (p2[1]-p1[1])*(P[0]-p2[0])\n",
    "    if x-y >= MIN: return True\n",
    "    else: return False"
   ]
  },
  {
   "cell_type": "code",
   "execution_count": null,
   "id": "717d044e",
   "metadata": {},
   "outputs": [],
   "source": [
    "def Clockwise(P):\n",
    "    n = len(P)\n",
    "    ans = 0\n",
    "    for i in range(n):\n",
    "        ans += (P[(i + 1) % n][0] - P[i][0]) * (P[(i + 1) % n][1] + P[i][1])\n",
    "    if ans > 0: return True\n",
    "    else: return False"
   ]
  },
  {
   "cell_type": "code",
   "execution_count": null,
   "id": "b2584f94",
   "metadata": {},
   "outputs": [],
   "source": [
    "def inside(p1, p2, p3, p4):\n",
    "    if p1==p4 or p2==p4 or p3==p4 : return False\n",
    "    if not counterClockwise(p3, p1, p4): return False\n",
    "    elif not counterClockwise(p1, p2, p4): return False\n",
    "    elif not counterClockwise(p2, p3, p4): return False\n",
    "    return True"
   ]
  },
  {
   "cell_type": "code",
   "execution_count": null,
   "id": "90308305",
   "metadata": {},
   "outputs": [],
   "source": [
    "def ear(pontos, adj, x):\n",
    "    t = [pontos[adj[x][0]], pontos[x], pontos[adj[x][1]]]\n",
    "    for p in pontos:\n",
    "        if inside(t[0], t[1], t[2], p): return False\n",
    "    if not counterClockwise(t[0],t[1],t[2]): return False\n",
    "    return True"
   ]
  },
  {
   "cell_type": "code",
   "execution_count": null,
   "id": "9c2e1dd6",
   "metadata": {},
   "outputs": [],
   "source": [
    "def earClipping(pontos):\n",
    "    \n",
    "    if Clockwise(pontos):\n",
    "        pontos.reverse()\n",
    "    process = pontos.copy()\n",
    "    n = len(pontos)\n",
    "    adj = [[n-1, 1]]\n",
    "    for i in range(n-2): adj.append([i, i+2])\n",
    "    adj.append([n-2, 0])\n",
    "    \n",
    "    triang = []\n",
    "    polig = []\n",
    "    \n",
    "    ears = set()\n",
    "    for i in range(len(pontos)):\n",
    "        if ear(pontos, adj ,i):\n",
    "            ears.add(i)\n",
    "    \n",
    "    while len(process) > 2:\n",
    "        p = next(iter(ears), None)\n",
    "        ears.remove(p)\n",
    "        process.remove(pontos[p])\n",
    "\n",
    "        pX = adj[p][0] \n",
    "        pY = adj[p][1]\n",
    "        adj[pY][0] = pX\n",
    "        adj[pX][1] = pY\n",
    "        \n",
    "        k = [pX, p, pY]\n",
    "        l = [pontos[pX], pontos[p], pontos[pY]]\n",
    "        \n",
    "        triang.append(k)\n",
    "        polig.append(l)\n",
    "\n",
    "        if ear(pontos, adj, pX):\n",
    "            ears.add(pX)\n",
    "        else:\n",
    "            for x in ears:\n",
    "                if x == pX:\n",
    "                    ears.remove(pX)\n",
    "                    break\n",
    "\n",
    "        if ear(pontos, adj, pY):\n",
    "            ears.add(pY)\n",
    "        else:\n",
    "            for x in ears:\n",
    "                if x == pY:\n",
    "                    ears.remove(pY)\n",
    "                    break\n",
    "            \n",
    "        hv.output(hv.Polygons([pontos[pX], pontos[p], pontos[pY]]).opts(color = \"white\") * hv.Polygons([process]).opts(color = \"black\") * hv.Points([pontos[p]]).opts(color = 'green', size = 15))\n",
    "    hv.output(hv.Polygons(polig))\n",
    "    \n",
    "    return triang\n",
    "    "
   ]
  },
  {
   "cell_type": "code",
   "execution_count": null,
   "id": "a4f6abd3",
   "metadata": {},
   "outputs": [],
   "source": [
    "def output(pontos, triang):\n",
    "    Xcolors = {0: \"black\", 1: \"red\", 2: \"green\", 3: \"blue\"}\n",
    "    plot_point = [hv.Points(i[\"point\"]).opts(size = 15,color = Xcolors[i[\"color\"]]) for i in pontos]\n",
    "    ans = plot_point[0]\n",
    "    l = len(plot_point)\n",
    "    for i in range(1, l): ans *= plot_point[i]\n",
    "    hv.output(triang * ans)"
   ]
  },
  {
   "cell_type": "code",
   "execution_count": null,
   "id": "f9e7e02f",
   "metadata": {},
   "outputs": [],
   "source": [
    "import queue\n",
    "def color(pontos, triangulo):\n",
    "    n = len(pontos)\n",
    "    triangulos = hv.Polygons([pontos[t[0]], pontos[t[1]], pontos[t[2]]] for t in triangulo)\n",
    "    pontos = [{\"point\": pontos[i], \"color\": 0} for i in range(n)]\n",
    "    \n",
    "    q = queue.Queue()\n",
    "    q.put(0)\n",
    "    vis = [0 for i in range(n)]\n",
    "    colors = [0 for i in range(n)]\n",
    "    vis[0] = 1\n",
    "    for i in range(3):\n",
    "        pontos[triangulo[0][i]][\"color\"] = i+1\n",
    "        colors[triangulo[0][i]] = i+1\n",
    "    \n",
    "    output(pontos, triangulos)\n",
    "    \n",
    "    while not q.empty():\n",
    "        this = q.get()\n",
    "        for j in range(n-2):\n",
    "            if not vis[j]:\n",
    "                sa = [k for k in triangulo[this] if k in triangulo[j]]\n",
    "                no = [k for k in triangulo[this]+triangulo[j] if k not in sa]\n",
    "                if len(sa) == 2:\n",
    "                    vis[j] = 1\n",
    "                    colors[no[1]] = colors[no[0]]\n",
    "                    pontos[no[1]][\"color\"] = colors[no[0]]\n",
    "                    q.put(j)\n",
    "        \n",
    "        output(pontos, triangulos)\n",
    "    output(pontos, triangulos)\n",
    "    \n",
    "    return None"
   ]
  },
  {
   "cell_type": "code",
   "execution_count": null,
   "id": "d8f34475",
   "metadata": {},
   "outputs": [],
   "source": [
    "crista = [[(0.5*a,10), (0.5*(a+1),2), (0.5*(a+2),2)] for a in range(1,25,3)]\n",
    "ponto = [(0,0)] + list(reduce(lambda x,y: x+y, crista)) + [(12,0),(0,0)]\n",
    "del ponto[-3]\n",
    "del ponto[-3]\n",
    "ponto2 = [(0,0), (1,3), (4,-2),(6.5,4),(2,4.5),(7.5,7),(1.5,7.5),(0.6,5),(-0.8,6),(0,0)]\n",
    "ponto3 = [(np.cos((2*k*np.pi)/8),np.sin((2*k*np.pi)/8)) for k in range(1,9)]\n",
    "ponto4 = [(3,4), (2,2), (3.5025,1.02125), (3.8025,2.64125), (4.7825,1.22125), (6.2225,1.20125), (6.5225,2.42125), (5.6025,3.58125), (5.0625,2.52125), (4.3425,3.48125), (5.3825,4.68125)]"
   ]
  },
  {
   "cell_type": "code",
   "execution_count": null,
   "id": "afd04f3c",
   "metadata": {},
   "outputs": [],
   "source": [
    "color(ponto, earClipping(ponto))"
   ]
  },
  {
   "cell_type": "code",
   "execution_count": null,
   "id": "feb8cc62",
   "metadata": {},
   "outputs": [],
   "source": [
    "color(ponto2, earClipping(ponto2))"
   ]
  },
  {
   "cell_type": "code",
   "execution_count": null,
   "id": "389144d1",
   "metadata": {},
   "outputs": [],
   "source": [
    "color(ponto3, earClipping(ponto3))"
   ]
  },
  {
   "cell_type": "code",
   "execution_count": null,
   "id": "544e627b",
   "metadata": {},
   "outputs": [],
   "source": [
    "color(ponto4, earClipping(ponto4))"
   ]
  }
 ],
 "metadata": {
  "kernelspec": {
   "display_name": "Python 3",
   "language": "python",
   "name": "python3"
  },
  "language_info": {
   "codemirror_mode": {
    "name": "ipython",
    "version": 3
   },
   "file_extension": ".py",
   "mimetype": "text/x-python",
   "name": "python",
   "nbconvert_exporter": "python",
   "pygments_lexer": "ipython3",
   "version": "3.9.6"
  }
 },
 "nbformat": 4,
 "nbformat_minor": 5
}
